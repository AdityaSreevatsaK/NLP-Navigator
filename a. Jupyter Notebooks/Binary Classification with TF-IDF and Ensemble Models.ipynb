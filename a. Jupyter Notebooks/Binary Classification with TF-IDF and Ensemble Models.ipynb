{
 "cells": [
  {
   "cell_type": "code",
   "execution_count": null,
   "id": "73daf4b6",
   "metadata": {},
   "outputs": [],
   "source": [
    "import warnings\n",
    "\n",
    "import re\n",
    "import pandas as pd\n",
    "import matplotlib.pyplot as plt\n",
    "\n",
    "from nltk.corpus import stopwords\n",
    "from nltk.stem import WordNetLemmatizer\n",
    "from sklearn.svm import SVC\n",
    "from sklearn.feature_extraction.text import TfidfVectorizer\n",
    "from xgboost import XGBClassifier\n",
    "from sklearn.ensemble import RandomForestClassifier, StackingClassifier, VotingClassifier, AdaBoostClassifier\n",
    "from sklearn.model_selection import train_test_split, RandomizedSearchCV, StratifiedKFold\n",
    "from sklearn.metrics import accuracy_score, classification_report, confusion_matrix\n",
    "from sklearn.metrics import f1_score, precision_recall_curve, ConfusionMatrixDisplay\n",
    "\n",
    "warnings.filterwarnings('ignore')"
   ]
  },
  {
   "cell_type": "code",
   "execution_count": null,
   "id": "0e1f66b4",
   "metadata": {},
   "outputs": [],
   "source": [
    "train_data = pd.read_csv('../b. Datasets/XYZ Store - Item Reviews/Train Data.csv')\n",
    "test_data = pd.read_csv('../b. Datasets/XYZ Store - Item Reviews/Test Data.csv')"
   ]
  },
  {
   "cell_type": "code",
   "execution_count": null,
   "id": "5af8f6c5",
   "metadata": {},
   "outputs": [],
   "source": [
    "stop_words = set(stopwords.words('english'))\n",
    "lemmatizer = WordNetLemmatizer()\n",
    "\n",
    "def preprocess_text(text):\n",
    "    \"\"\"\n",
    "    Function to clean and preprocess text data.\n",
    "    \"\"\"\n",
    "    # Convert to lowercase\n",
    "    text = text.lower()\n",
    "\n",
    "    # Remove special characters, numbers, and punctuation\n",
    "    text = re.sub(r'[^a-z\\s]', '', text)\n",
    "\n",
    "    # Remove extra whitespace\n",
    "    text = re.sub(r'\\s+', ' ', text).strip()\n",
    "\n",
    "    # Remove stopwords and lemmatise\n",
    "    tokens = [lemmatizer.lemmatize(word) for word in text.split() if word not in stop_words]\n",
    "\n",
    "    # Join tokens back to text\n",
    "    return \" \".join(tokens)\n",
    "\n",
    "# Apply pre-processing to training and test data\n",
    "train_data['Cleaned_Review'] = train_data['Review'].apply(preprocess_text)\n",
    "test_data['Cleaned_Review'] = test_data['Review'].apply(preprocess_text)"
   ]
  },
  {
   "cell_type": "code",
   "execution_count": null,
   "id": "f7377fe6",
   "metadata": {},
   "outputs": [],
   "source": [
    "train_data.drop(labels='Review', axis=1, inplace=True)\n",
    "test_data.drop(labels='Review', axis=1, inplace=True)"
   ]
  },
  {
   "cell_type": "code",
   "execution_count": null,
   "id": "96410050",
   "metadata": {},
   "outputs": [],
   "source": [
    "train_data.to_csv(\"Train Cleaned Data.csv\", index=False)\n",
    "test_data.to_csv(\"Test Cleaned Data.csv\", index=False)"
   ]
  },
  {
   "cell_type": "code",
   "execution_count": 2,
   "id": "777ae7cb-1660-406d-9be4-e40952c389e3",
   "metadata": {},
   "outputs": [],
   "source": [
    "train_data = pd.read_csv(\"Train Cleaned Data.csv\")\n",
    "test_data = pd.read_csv(\"Test Cleaned Data.csv\")"
   ]
  },
  {
   "cell_type": "code",
   "execution_count": 3,
   "id": "68254041",
   "metadata": {},
   "outputs": [],
   "source": [
    "train_data.fillna(\" \", inplace=True)\n",
    "test_data.fillna(\" \", inplace=True)"
   ]
  },
  {
   "cell_type": "code",
   "execution_count": 4,
   "id": "18370d38",
   "metadata": {},
   "outputs": [
    {
     "data": {
      "text/html": [
       "<div>\n",
       "<style scoped>\n",
       "    .dataframe tbody tr th:only-of-type {\n",
       "        vertical-align: middle;\n",
       "    }\n",
       "\n",
       "    .dataframe tbody tr th {\n",
       "        vertical-align: top;\n",
       "    }\n",
       "\n",
       "    .dataframe thead th {\n",
       "        text-align: right;\n",
       "    }\n",
       "</style>\n",
       "<table border=\"1\" class=\"dataframe\">\n",
       "  <thead>\n",
       "    <tr style=\"text-align: right;\">\n",
       "      <th></th>\n",
       "      <th>ID</th>\n",
       "      <th>Review_Title</th>\n",
       "      <th>Rating</th>\n",
       "      <th>Cleaned_Review</th>\n",
       "    </tr>\n",
       "  </thead>\n",
       "  <tbody>\n",
       "    <tr>\n",
       "      <th>0</th>\n",
       "      <td>0</td>\n",
       "      <td>good product</td>\n",
       "      <td>1</td>\n",
       "      <td>fine price</td>\n",
       "    </tr>\n",
       "    <tr>\n",
       "      <th>1</th>\n",
       "      <td>1</td>\n",
       "      <td>Worth the money</td>\n",
       "      <td>1</td>\n",
       "      <td>best quality material</td>\n",
       "    </tr>\n",
       "  </tbody>\n",
       "</table>\n",
       "</div>"
      ],
      "text/plain": [
       "   ID     Review_Title  Rating         Cleaned_Review\n",
       "0   0     good product       1             fine price\n",
       "1   1  Worth the money       1  best quality material"
      ]
     },
     "metadata": {},
     "output_type": "display_data"
    },
    {
     "data": {
      "text/html": [
       "<div>\n",
       "<style scoped>\n",
       "    .dataframe tbody tr th:only-of-type {\n",
       "        vertical-align: middle;\n",
       "    }\n",
       "\n",
       "    .dataframe tbody tr th {\n",
       "        vertical-align: top;\n",
       "    }\n",
       "\n",
       "    .dataframe thead th {\n",
       "        text-align: right;\n",
       "    }\n",
       "</style>\n",
       "<table border=\"1\" class=\"dataframe\">\n",
       "  <thead>\n",
       "    <tr style=\"text-align: right;\">\n",
       "      <th></th>\n",
       "      <th>ID</th>\n",
       "      <th>Review_Title</th>\n",
       "      <th>Rating</th>\n",
       "      <th>Cleaned_Review</th>\n",
       "    </tr>\n",
       "  </thead>\n",
       "  <tbody>\n",
       "    <tr>\n",
       "      <th>44796</th>\n",
       "      <td>49123</td>\n",
       "      <td>Could be way better</td>\n",
       "      <td>0</td>\n",
       "      <td>okay</td>\n",
       "    </tr>\n",
       "    <tr>\n",
       "      <th>44797</th>\n",
       "      <td>49124</td>\n",
       "      <td>One Star\\r\\n</td>\n",
       "      <td>0</td>\n",
       "      <td>good</td>\n",
       "    </tr>\n",
       "  </tbody>\n",
       "</table>\n",
       "</div>"
      ],
      "text/plain": [
       "          ID         Review_Title  Rating Cleaned_Review\n",
       "44796  49123  Could be way better       0           okay\n",
       "44797  49124         One Star\\r\\n       0           good"
      ]
     },
     "metadata": {},
     "output_type": "display_data"
    },
    {
     "data": {
      "text/html": [
       "<div>\n",
       "<style scoped>\n",
       "    .dataframe tbody tr th:only-of-type {\n",
       "        vertical-align: middle;\n",
       "    }\n",
       "\n",
       "    .dataframe tbody tr th {\n",
       "        vertical-align: top;\n",
       "    }\n",
       "\n",
       "    .dataframe thead th {\n",
       "        text-align: right;\n",
       "    }\n",
       "</style>\n",
       "<table border=\"1\" class=\"dataframe\">\n",
       "  <thead>\n",
       "    <tr style=\"text-align: right;\">\n",
       "      <th></th>\n",
       "      <th>ID</th>\n",
       "      <th>Review_Title</th>\n",
       "      <th>Cleaned_Review</th>\n",
       "    </tr>\n",
       "  </thead>\n",
       "  <tbody>\n",
       "    <tr>\n",
       "      <th>0</th>\n",
       "      <td>0</td>\n",
       "      <td>Super!</td>\n",
       "      <td>good cooling low noise better daily change wat...</td>\n",
       "    </tr>\n",
       "    <tr>\n",
       "      <th>1</th>\n",
       "      <td>1</td>\n",
       "      <td>Brilliant</td>\n",
       "      <td>awesome</td>\n",
       "    </tr>\n",
       "  </tbody>\n",
       "</table>\n",
       "</div>"
      ],
      "text/plain": [
       "   ID Review_Title                                     Cleaned_Review\n",
       "0   0       Super!  good cooling low noise better daily change wat...\n",
       "1   1    Brilliant                                            awesome"
      ]
     },
     "metadata": {},
     "output_type": "display_data"
    },
    {
     "data": {
      "text/html": [
       "<div>\n",
       "<style scoped>\n",
       "    .dataframe tbody tr th:only-of-type {\n",
       "        vertical-align: middle;\n",
       "    }\n",
       "\n",
       "    .dataframe tbody tr th {\n",
       "        vertical-align: top;\n",
       "    }\n",
       "\n",
       "    .dataframe thead th {\n",
       "        text-align: right;\n",
       "    }\n",
       "</style>\n",
       "<table border=\"1\" class=\"dataframe\">\n",
       "  <thead>\n",
       "    <tr style=\"text-align: right;\">\n",
       "      <th></th>\n",
       "      <th>ID</th>\n",
       "      <th>Review_Title</th>\n",
       "      <th>Cleaned_Review</th>\n",
       "    </tr>\n",
       "  </thead>\n",
       "  <tbody>\n",
       "    <tr>\n",
       "      <th>14930</th>\n",
       "      <td>16373</td>\n",
       "      <td>Classy product</td>\n",
       "      <td>wonderful</td>\n",
       "    </tr>\n",
       "    <tr>\n",
       "      <th>14931</th>\n",
       "      <td>16374</td>\n",
       "      <td>great ear phone\\n</td>\n",
       "      <td>great</td>\n",
       "    </tr>\n",
       "  </tbody>\n",
       "</table>\n",
       "</div>"
      ],
      "text/plain": [
       "          ID       Review_Title Cleaned_Review\n",
       "14930  16373     Classy product      wonderful\n",
       "14931  16374  great ear phone\\n          great"
      ]
     },
     "metadata": {},
     "output_type": "display_data"
    }
   ],
   "source": [
    "display(train_data.head(2))\n",
    "display(train_data.tail(2))\n",
    "display(test_data.head(2))\n",
    "display(test_data.tail(2))"
   ]
  },
  {
   "cell_type": "code",
   "execution_count": 5,
   "id": "2b5f6b55",
   "metadata": {},
   "outputs": [],
   "source": [
    "X = train_data[['Cleaned_Review', 'Review_Title']]\n",
    "y = train_data['Rating']"
   ]
  },
  {
   "cell_type": "code",
   "execution_count": 8,
   "id": "d7d3270c-b346-413b-b814-fdf8a0b25ff6",
   "metadata": {},
   "outputs": [
    {
     "data": {
      "image/png": "[encoded data removed]",
      "text/plain": [
       "<Figure size 500x700 with 1 Axes>"
      ]
     },
     "metadata": {},
     "output_type": "display_data"
    }
   ],
   "source": [
    "plt.figure(figsize=(5, 7))\n",
    "countplot = y.value_counts().plot(kind='bar', color=['green', 'red'])\n",
    "plt.bar_label(countplot.containers[0], label_type='edge')\n",
    "plt.grid()\n",
    "plt.tight_layout()"
   ]
  },
  {
   "cell_type": "code",
   "execution_count": 9,
   "id": "210819b9",
   "metadata": {},
   "outputs": [],
   "source": [
    "X_train, X_test, y_train, y_test = train_test_split(X, y, \n",
    "                                                    shuffle=True, \n",
    "                                                    stratify=y,\n",
    "                                                    test_size=0.25, \n",
    "                                                    random_state=0)"
   ]
  },
  {
   "cell_type": "code",
   "execution_count": 10,
   "id": "b0c6f760",
   "metadata": {},
   "outputs": [
    {
     "data": {
      "text/plain": [
       "Cleaned_Review    0\n",
       "Review_Title      0\n",
       "dtype: int64"
      ]
     },
     "execution_count": 10,
     "metadata": {},
     "output_type": "execute_result"
    }
   ],
   "source": [
    "X_train.isna().sum()"
   ]
  },
  {
   "cell_type": "code",
   "execution_count": 11,
   "id": "0e279b15",
   "metadata": {},
   "outputs": [],
   "source": [
    "# Combine 'Cleaned_Review' and 'Review_Title' into a single text column\n",
    "X_train = X_train['Review_Title'] + \" \" + X_train['Cleaned_Review']\n",
    "X_test = X_test['Review_Title'] + \" \" + X_test['Review_Title']"
   ]
  },
  {
   "cell_type": "code",
   "execution_count": 12,
   "id": "9db8c862",
   "metadata": {},
   "outputs": [
    {
     "data": {
      "text/plain": [
       "6973    Value for money\\r\\n best bluetooth earphone ru...\n",
       "4087                                     Really Nice good\n",
       "dtype: object"
      ]
     },
     "execution_count": 12,
     "metadata": {},
     "output_type": "execute_result"
    }
   ],
   "source": [
    "X_train.head(2)"
   ]
  },
  {
   "cell_type": "code",
   "execution_count": 13,
   "id": "f5d603dd",
   "metadata": {},
   "outputs": [],
   "source": [
    "# Convert the reviews (text data) into numerical vectors using TF-IDF\n",
    "vectorizer = TfidfVectorizer(stop_words='english', max_features=5000, ngram_range=(1, 2))\n",
    "X_train_tfidf = vectorizer.fit_transform(X_train)\n",
    "X_test_tfidf = vectorizer.transform(X_test)"
   ]
  },
  {
   "cell_type": "code",
   "execution_count": 14,
   "id": "140c9afd",
   "metadata": {},
   "outputs": [
    {
     "data": {
      "text/plain": [
       "((33598,), (11200, 5000))"
      ]
     },
     "execution_count": 14,
     "metadata": {},
     "output_type": "execute_result"
    }
   ],
   "source": [
    "X_train.shape, X_test_tfidf.shape"
   ]
  },
  {
   "cell_type": "code",
   "execution_count": 15,
   "id": "45904c1b",
   "metadata": {},
   "outputs": [],
   "source": [
    "test_X = test_data['Review_Title'] + \" \" + test_data['Cleaned_Review']\n",
    "test_data_tfidf = vectorizer.transform(test_X)"
   ]
  },
  {
   "cell_type": "code",
   "execution_count": 16,
   "id": "7c682ad3",
   "metadata": {},
   "outputs": [
    {
     "data": {
      "text/plain": [
       "((14932, 3), (14932, 5000))"
      ]
     },
     "execution_count": 16,
     "metadata": {},
     "output_type": "execute_result"
    }
   ],
   "source": [
    "test_data.shape, test_data_tfidf.shape"
   ]
  },
  {
   "cell_type": "code",
   "execution_count": 17,
   "id": "f1e2d5c4",
   "metadata": {},
   "outputs": [],
   "source": [
    "stratified_k_fold_cv = StratifiedKFold(n_splits=5, shuffle=True, random_state=0)"
   ]
  },
  {
   "cell_type": "markdown",
   "id": "ec5e0d08",
   "metadata": {},
   "source": [
    "### XGBoost"
   ]
  },
  {
   "cell_type": "code",
   "execution_count": null,
   "id": "1cf69727",
   "metadata": {},
   "outputs": [],
   "source": [
    "xgb_model = XGBClassifier(use_label_encoder=False, eval_metric='logloss')\n",
    "\n",
    "# Parameter grid for XGBoost\n",
    "param_grid_xgb = {\n",
    "    'n_estimators': [100, 300, 500, 1000],  # Number of trees\n",
    "    'max_depth': [3, 5, 7, 10],             # Maximum depth of trees\n",
    "    'learning_rate': [0.01, 0.1, 0.3, 0.5], # Step size shrinkage\n",
    "    'subsample': [0.6, 0.8, 1.0],           # Fraction of samples per tree\n",
    "    'colsample_bytree': [0.6, 0.8, 1.0],    # Fraction of features per tree\n",
    "    'gamma': [0, 1, 5],                     # Minimum loss reduction\n",
    "    'reg_alpha': [0, 0.1, 1],               # L1 regularisation\n",
    "    'reg_lambda': [1, 2, 5],                # L2 regularisation\n",
    "}\n",
    "\n",
    "# RandomizedSearchCV for XGBoost\n",
    "xgb_random_search = RandomizedSearchCV(\n",
    "    estimator=xgb_model,\n",
    "    param_distributions=param_grid_xgb,\n",
    "    n_iter=20,                         # Number of parameter settings to try\n",
    "    scoring='f1',                      # Use F1 score for binary classification\n",
    "    cv=stratified_k_fold_cv,           # Stratified K-Fold\n",
    "    random_state=0,\n",
    "    n_jobs=-1                          # Use all available processors\n",
    ")\n",
    "\n",
    "# Fit the model\n",
    "xgb_random_search.fit(X_train_tfidf, y_train)\n",
    "best_xgboost_model = xgb_random_search.best_estimator_"
   ]
  },
  {
   "cell_type": "code",
   "execution_count": null,
   "id": "2f442803",
   "metadata": {},
   "outputs": [],
   "source": [
    "# Best parameters and score\n",
    "print(\"Best Parameters:\", xgb_random_search.best_params_)\n",
    "print(\"Best F1 Score:\", xgb_random_search.best_score_)\n",
    "\n",
    "# Evaluate on test data\n",
    "y_pred_xgb = best_xgboost_model.predict(X_test_tfidf)\n",
    "print(classification_report(y_test, y_pred_xgb))\n",
    "print(f'Confusion Matrix:\\n', ConfusionMatrixDisplay(confusion_matrix(y_test, y_pred_xgb)).plot())\n",
    "print(\"F1 Score:\", f1_score(y_test, y_pred_xgb))"
   ]
  },
  {
   "cell_type": "markdown",
   "id": "cc4af85e",
   "metadata": {},
   "source": [
    "### Random Forest Classifier"
   ]
  },
  {
   "cell_type": "code",
   "execution_count": 18,
   "id": "6c220fc8",
   "metadata": {},
   "outputs": [
    {
     "name": "stdout",
     "output_type": "stream",
     "text": [
      "Accuracy: 0.8896205357142857\n",
      "Classification Report:\n",
      "              precision    recall  f1-score   support\n",
      "\n",
      "           0       0.94      0.16      0.28      1168\n",
      "           1       0.89      1.00      0.94      7792\n",
      "\n",
      "    accuracy                           0.89      8960\n",
      "   macro avg       0.91      0.58      0.61      8960\n",
      "weighted avg       0.90      0.89      0.85      8960\n",
      "\n",
      "Confusion Matrix:\n",
      "[[ 191  977]\n",
      " [  12 7780]]\n",
      "F1 Score: 0.9402380808508067\n"
     ]
    }
   ],
   "source": [
    "param_grid = {\n",
    "    'criterion': ['entropy', 'gini', 'log_loss'],\n",
    "    'max_depth': range(1, 12),\n",
    "    'max_features': ['sqrt', 'log2', None, 8, 10, 12, 13, 14],\n",
    "    'n_estimators': range(100, 1000, 100),\n",
    "    'min_samples_split': [2, 5, 10, 15], \n",
    "    'min_samples_leaf': [1, 2, 5, 10]\n",
    "}\n",
    "\n",
    "random_forest_classifier = RandomForestClassifier()\n",
    "\n",
    "rfc_model = RandomizedSearchCV(estimator=random_forest_classifier, \n",
    "                                      param_distributions=param_grid,\n",
    "                                      n_iter=20, \n",
    "                                      cv=stratified_k_fold_cv, \n",
    "                                      scoring='accuracy', \n",
    "                                      n_jobs=-1,\n",
    "                                      random_state=0)\n",
    "\n",
    "rfc_model.fit(X_train_tfidf, y_train)\n",
    "\n",
    "best_rfc_model = rfc_model.best_estimator_\n",
    "\n",
    "# Make predictions on the test data\n",
    "y_pred = best_rfc_model.predict(X_test_tfidf)"
   ]
  },
  {
   "cell_type": "code",
   "execution_count": 38,
   "id": "2442c8b0",
   "metadata": {},
   "outputs": [
    {
     "name": "stdout",
     "output_type": "stream",
     "text": [
      "Best Parameters: {'n_estimators': 600, 'min_samples_split': 15, 'min_samples_leaf': 10, 'max_features': None, 'max_depth': 3, 'criterion': 'entropy'}\n",
      "Best F1 Score: 0.9260561100355797\n",
      "Accuracy: 0.9650669642857143\n",
      "Classification Report:\n",
      "              precision    recall  f1-score   support\n",
      "\n",
      "           0       0.94      0.79      0.85      1168\n",
      "           1       0.97      0.99      0.98      7792\n",
      "\n",
      "    accuracy                           0.97      8960\n",
      "   macro avg       0.95      0.89      0.92      8960\n",
      "weighted avg       0.96      0.97      0.96      8960\n",
      "\n",
      "Confusion Matrix:\n",
      "<sklearn.metrics._plot.confusion_matrix.ConfusionMatrixDisplay object at 0x000001F9FEF7F490>\n",
      "F1 Score: 0.9801534461987191\n"
     ]
    },
    {
     "data": {
      "image/png": "[encoded data removed]",
      "text/plain": [
       "<Figure size 640x480 with 2 Axes>"
      ]
     },
     "metadata": {},
     "output_type": "display_data"
    }
   ],
   "source": [
    "# Best parameters and score\n",
    "print(\"Best Parameters:\", model.best_params_)\n",
    "print(\"Best F1 Score:\", model.best_score_)\n",
    "\n",
    "# Evaluate the model\n",
    "print(f'Accuracy: {accuracy_score(y_test, y_pred)}')\n",
    "print(f'Classification Report:\\n{classification_report(y_test, y_pred)}')\n",
    "print(f'Confusion Matrix:\\n', ConfusionMatrixDisplay(confusion_matrix(y_test, y_pred)).plot())\n",
    "print(\"F1 Score:\", f1_score(y_test, y_pred))"
   ]
  },
  {
   "cell_type": "markdown",
   "id": "4f47fe8b",
   "metadata": {},
   "source": [
    "### Support Vector Classifier"
   ]
  },
  {
   "cell_type": "code",
   "execution_count": 19,
   "id": "62a4438b",
   "metadata": {},
   "outputs": [
    {
     "name": "stdout",
     "output_type": "stream",
     "text": [
      "Best Parameters: {'kernel': 'rbf', 'gamma': 'scale', 'degree': 2, 'class_weight': None, 'C': 500}\n",
      "Best F1 Score: 0.9890082245079469\n",
      "              precision    recall  f1-score   support\n",
      "\n",
      "           0       0.93      0.81      0.87      1168\n",
      "           1       0.97      0.99      0.98      7792\n",
      "\n",
      "    accuracy                           0.97      8960\n",
      "   macro avg       0.95      0.90      0.92      8960\n",
      "weighted avg       0.97      0.97      0.97      8960\n",
      "\n",
      "F1 Score: 0.9815108964991422\n"
     ]
    }
   ],
   "source": [
    "# Define the SVC model\n",
    "svc_model = SVC()\n",
    "\n",
    "# Parameter grid for SVC\n",
    "param_grid_svc = {\n",
    "    'C': [100, 300, 500, 1000],        # Regularisation parameter\n",
    "    'kernel': ['linear', 'rbf', 'poly', 'sigmoid'],  # Kernel types\n",
    "    'degree': [2, 3, 4],               # Degree for polynomial kernel\n",
    "    'gamma': ['scale', 'auto'],        # Kernel coefficient\n",
    "    'class_weight': [None, 'balanced'] # Handle class imbalance\n",
    "}\n",
    "\n",
    "# RandomizedSearchCV for SVC\n",
    "svc_random_search = RandomizedSearchCV(\n",
    "    estimator=svc_model,\n",
    "    param_distributions=param_grid_svc,\n",
    "    n_iter=20,                         # Number of parameter settings to try\n",
    "    scoring='f1',                      # Use F1 score for binary classification\n",
    "    cv=stratified_k_fold_cv,           # Stratified K-Fold\n",
    "    random_state=0,\n",
    "    n_jobs=-1                          # Use all available processors\n",
    ")\n",
    "\n",
    "# Fit the model\n",
    "svc_random_search.fit(X_train_tfidf, y_train)\n",
    "best_svc_model = svc_random_search.best_estimator_"
   ]
  },
  {
   "cell_type": "code",
   "execution_count": 40,
   "id": "63b67586",
   "metadata": {},
   "outputs": [
    {
     "name": "stdout",
     "output_type": "stream",
     "text": [
      "Best Parameters: {'kernel': 'rbf', 'gamma': 'scale', 'degree': 2, 'class_weight': None, 'C': 500}\n",
      "Best F1 Score: 0.9890082245079469\n",
      "              precision    recall  f1-score   support\n",
      "\n",
      "           0       0.93      0.81      0.87      1168\n",
      "           1       0.97      0.99      0.98      7792\n",
      "\n",
      "    accuracy                           0.97      8960\n",
      "   macro avg       0.95      0.90      0.92      8960\n",
      "weighted avg       0.97      0.97      0.97      8960\n",
      "\n",
      "Confusion Matrix <sklearn.metrics._plot.confusion_matrix.ConfusionMatrixDisplay object at 0x000001F9FF2D2A90>\n",
      "F1 Score: 0.9815108964991422\n"
     ]
    },
    {
     "data": {
      "image/png": "[encoded data removed]",
      "text/plain": [
       "<Figure size 640x480 with 2 Axes>"
      ]
     },
     "metadata": {},
     "output_type": "display_data"
    }
   ],
   "source": [
    "# Best parameters and score\n",
    "print(\"Best Parameters:\", svc_random_search.best_params_)\n",
    "print(\"Best F1 Score:\", svc_random_search.best_score_)\n",
    "\n",
    "y_pred_svc = best_svc_model.predict(X_test_tfidf)\n",
    "print(classification_report(y_test, y_pred_svc))\n",
    "print(\"Confusion Matrix\", ConfusionMatrixDisplay(confusion_matrix(y_test, y_pred_svc)).plot())\n",
    "print(\"F1 Score:\", f1_score(y_test, y_pred_svc))"
   ]
  },
  {
   "cell_type": "markdown",
   "id": "78470bdb",
   "metadata": {},
   "source": [
    "### AdaBoost"
   ]
  },
  {
   "cell_type": "code",
   "execution_count": null,
   "id": "05cfae3d",
   "metadata": {},
   "outputs": [],
   "source": [
    "# Define the objective function for Optuna\n",
    "def objective(trial):\n",
    "    # Define hyperparameter search space\n",
    "    n_estimators = trial.suggest_int('n_estimators', 100, 1000, step=100)\n",
    "    learning_rate = trial.suggest_categorical('learning_rate', [0.5, 1.0, 1.1, 1.2, 1.5, 2.0, 3.0])\n",
    "    algorithm = trial.suggest_categorical('algorithm', ['SAMME', 'SAMME.R'])\n",
    "\n",
    "    # Create the model\n",
    "    model = AdaBoostClassifier(\n",
    "        n_estimators=n_estimators,\n",
    "        learning_rate=learning_rate,\n",
    "        algorithm=algorithm\n",
    "    )\n",
    "\n",
    "    # Evaluate the model using cross-validation\n",
    "    scores = cross_val_score(model, X_train_tfidf, y_train, cv=stratified_k_fold_cv, scoring='f1')\n",
    "    return scores.mean()\n",
    "\n",
    "# Run the optimisation\n",
    "study = optuna.create_study(direction='maximize')\n",
    "study.optimize(objective, n_trials=20)\n",
    "\n",
    "# Train and evaluate the best model\n",
    "best_params = study.best_params\n",
    "best_adaboost_model = AdaBoostClassifier(**best_params)\n",
    "best_adaboost_model.fit(X_train_tfidf, y_train)"
   ]
  },
  {
   "cell_type": "code",
   "execution_count": 20,
   "id": "d2a96e76",
   "metadata": {},
   "outputs": [
    {
     "name": "stdout",
     "output_type": "stream",
     "text": [
      "Best Parameters: {'n_estimators': 300, 'learning_rate': 1.0, 'algorithm': 'SAMME.R'}\n",
      "Best F1 Score: 0.9869276956496001\n",
      "              precision    recall  f1-score   support\n",
      "\n",
      "           0       0.94      0.79      0.85      1168\n",
      "           1       0.97      0.99      0.98      7792\n",
      "\n",
      "    accuracy                           0.97      8960\n",
      "   macro avg       0.95      0.89      0.92      8960\n",
      "weighted avg       0.96      0.97      0.96      8960\n",
      "\n",
      "F1 Score: 0.9801534461987191\n"
     ]
    }
   ],
   "source": [
    "# Define the AdaBoost model\n",
    "adaboost_model = AdaBoostClassifier()\n",
    "\n",
    "# Parameter grid for AdaBoost\n",
    "param_grid_adaboost = {\n",
    "    'n_estimators': range(100, 1000, 100),   # Number of estimators\n",
    "    'learning_rate': [0.01, 0.1, 0.5, 1.0],  # Learning rate\n",
    "    'algorithm': ['SAMME', 'SAMME.R']        # Algorithm variants\n",
    "}\n",
    "\n",
    "# RandomizedSearchCV for AdaBoost\n",
    "adaboost_random_search = RandomizedSearchCV(\n",
    "    estimator=adaboost_model,\n",
    "    param_distributions=param_grid_adaboost,\n",
    "    n_iter=20,                         # Number of parameter settings to try\n",
    "    scoring='f1',                      # Use F1 score for binary classification\n",
    "    cv=stratified_k_fold_cv,           # Stratified K-Fold\n",
    "    random_state=0,\n",
    "    n_jobs=-1                          # Use all available processors\n",
    ")\n",
    "\n",
    "# Fit the model\n",
    "adaboost_random_search.fit(X_train_tfidf, y_train)\n",
    "best_adaboost_model = adaboost_random_search.best_estimator_"
   ]
  },
  {
   "cell_type": "code",
   "execution_count": 37,
   "id": "28645b57",
   "metadata": {},
   "outputs": [
    {
     "name": "stdout",
     "output_type": "stream",
     "text": [
      "Best Parameters: {'n_estimators': 300, 'learning_rate': 1.0, 'algorithm': 'SAMME.R'}\n",
      "Best F1 Score: 0.9869276956496001\n",
      "              precision    recall  f1-score   support\n",
      "\n",
      "           0       0.94      0.79      0.85      1168\n",
      "           1       0.97      0.99      0.98      7792\n",
      "\n",
      "    accuracy                           0.97      8960\n",
      "   macro avg       0.95      0.89      0.92      8960\n",
      "weighted avg       0.96      0.97      0.96      8960\n",
      "\n",
      "Confusion Matrix <sklearn.metrics._plot.confusion_matrix.ConfusionMatrixDisplay object at 0x000001F9FCEE2BD0>\n",
      "F1 Score: 0.9801534461987191\n"
     ]
    },
    {
     "data": {
      "image/png": "[encoded data removed]",
      "text/plain": [
       "<Figure size 640x480 with 2 Axes>"
      ]
     },
     "metadata": {},
     "output_type": "display_data"
    }
   ],
   "source": [
    "# Best parameters and score\n",
    "print(\"Best Parameters:\", adaboost_random_search.best_params_)\n",
    "print(\"Best F1 Score:\", adaboost_random_search.best_score_)\n",
    "\n",
    "y_pred_adaboost = best_adaboost_model.predict(X_test_tfidf)\n",
    "print(classification_report(y_test, y_pred_adaboost))\n",
    "print(\"Confusion Matrix\", ConfusionMatrixDisplay(confusion_matrix(y_test, y_pred_adaboost)).plot())\n",
    "print(\"F1 Score:\", f1_score(y_test, y_pred_adaboost))"
   ]
  },
  {
   "cell_type": "markdown",
   "id": "d78968cc",
   "metadata": {},
   "source": [
    "### Voting Classifier"
   ]
  },
  {
   "cell_type": "code",
   "execution_count": 21,
   "id": "57802f56",
   "metadata": {},
   "outputs": [
    {
     "name": "stdout",
     "output_type": "stream",
     "text": [
      "Classification Report for Ensemble:\n",
      "              precision    recall  f1-score   support\n",
      "\n",
      "           0       0.95      0.78      0.86      1168\n",
      "           1       0.97      0.99      0.98      7792\n",
      "\n",
      "    accuracy                           0.97      8960\n",
      "   macro avg       0.96      0.89      0.92      8960\n",
      "weighted avg       0.97      0.97      0.96      8960\n",
      "\n",
      "F1 Score: 0.9806353626123275\n"
     ]
    }
   ],
   "source": [
    "# Define the best Random Forest and SVC models\n",
    "best_rf = model.best_estimator_  # Best Random Forest from RandomizedSearchCV\n",
    "best_svc = svc_random_search.best_estimator_  # Best SVC from RandomizedSearchCV\n",
    "\n",
    "# Create a Voting Classifier\n",
    "voting_clf = VotingClassifier(\n",
    "    estimators=[\n",
    "        ('random_forest', best_rf),\n",
    "        ('svc', best_svc),\n",
    "        ('ada_boost', best_adaboost_model),\n",
    "        ('xgboost', best_xgboost_model)\n",
    "    ],\n",
    "    voting='hard'\n",
    ")\n",
    "\n",
    "# Fit the ensemble model\n",
    "voting_clf.fit(X_train_tfidf, y_train)\n",
    "\n",
    "# Make predictions\n",
    "y_pred_voting = voting_clf.predict(X_test_tfidf)"
   ]
  },
  {
   "cell_type": "code",
   "execution_count": null,
   "id": "bce62b8a",
   "metadata": {},
   "outputs": [],
   "source": [
    "# Evaluate the ensemble model\n",
    "print(\"Classification Report for Ensemble:\")\n",
    "print(classification_report(y_test, y_pred_voting))\n",
    "print(\"Confusion matrix\", ConfusionMatrixDisplay(confusion_matrix(y_test, y_pred_voting)).plot())\n",
    "print(\"F1 Score:\", f1_score(y_test, y_pred_voting))"
   ]
  },
  {
   "cell_type": "markdown",
   "id": "e642cc3e",
   "metadata": {},
   "source": [
    "### Stacking Classifier"
   ]
  },
  {
   "cell_type": "code",
   "execution_count": 41,
   "id": "c609d029",
   "metadata": {},
   "outputs": [],
   "source": [
    "stacking_clf = StackingClassifier(\n",
    "    estimators = [\n",
    "        ('random_forest', best_rf),\n",
    "        ('svc', best_svc), \n",
    "        ('ada_boost', best_adaboost_model),\n",
    "        ('xgboost', best_xgboost_model)\n",
    "    ],\n",
    "    final_estimator=RandomForestClassifier()  # Meta-classifier\n",
    ")\n",
    "\n",
    "stacking_clf.fit(X_train_tfidf, y_train)\n",
    "y_pred_stacking = stacking_clf.predict(X_test_tfidf)"
   ]
  },
  {
   "cell_type": "code",
   "execution_count": 42,
   "id": "a226bdb1",
   "metadata": {},
   "outputs": [
    {
     "name": "stdout",
     "output_type": "stream",
     "text": [
      "Classification Report for Stacking Ensemble:\n",
      "              precision    recall  f1-score   support\n",
      "\n",
      "           0       0.84      0.84      0.84      1168\n",
      "           1       0.98      0.98      0.98      7792\n",
      "\n",
      "    accuracy                           0.96      8960\n",
      "   macro avg       0.91      0.91      0.91      8960\n",
      "weighted avg       0.96      0.96      0.96      8960\n",
      "\n",
      "Confusion Matrix <sklearn.metrics._plot.confusion_matrix.ConfusionMatrixDisplay object at 0x000001F9FF1B0990>\n",
      "F1 Score: 0.9761858912638809\n"
     ]
    },
    {
     "data": {
      "image/png": "[encoded data removed]",
      "text/plain": [
       "<Figure size 640x480 with 2 Axes>"
      ]
     },
     "metadata": {},
     "output_type": "display_data"
    }
   ],
   "source": [
    "print(\"Classification Report for Stacking Ensemble:\")\n",
    "print(classification_report(y_test, y_pred_stacking))\n",
    "print(\"Confusion Matrix\", ConfusionMatrixDisplay(confusion_matrix(y_test, y_pred_stacking)).plot())\n",
    "print(\"F1 Score:\", f1_score(y_test, y_pred_stacking))"
   ]
  },
  {
   "cell_type": "code",
   "execution_count": 23,
   "id": "c2d53bff",
   "metadata": {},
   "outputs": [],
   "source": [
    "test_pred = voting_clf.predict(test_data_tfidf)"
   ]
  },
  {
   "cell_type": "code",
   "execution_count": 24,
   "id": "3449418a",
   "metadata": {},
   "outputs": [
    {
     "data": {
      "text/plain": [
       "14932"
      ]
     },
     "execution_count": 24,
     "metadata": {},
     "output_type": "execute_result"
    }
   ],
   "source": [
    "len(test_pred)"
   ]
  },
  {
   "cell_type": "code",
   "execution_count": 43,
   "id": "0a2af88f",
   "metadata": {},
   "outputs": [
    {
     "name": "stdout",
     "output_type": "stream",
     "text": [
      "F1 Score with Custom Threshold: 0.9807996958367657\n"
     ]
    }
   ],
   "source": [
    "# Get probabilities and compute thresholds\n",
    "y_probs = stacking_clf.predict_proba(X_test_tfidf)[:, 1]\n",
    "precision, recall, thresholds = precision_recall_curve(y_test, y_probs)\n",
    "\n",
    "# Choose threshold based on F1 score\n",
    "f1_scores = 2 * (precision * recall) / (precision + recall)\n",
    "best_threshold = thresholds[f1_scores.argmax()]\n",
    "\n",
    "# Predict with the best threshold\n",
    "y_pred_custom = (y_probs >= best_threshold).astype(int)\n",
    "print(\"F1 Score with Custom Threshold:\", f1_scores.max())"
   ]
  },
  {
   "cell_type": "code",
   "execution_count": 44,
   "id": "34612198",
   "metadata": {},
   "outputs": [],
   "source": [
    "test_probs = stacking_clf.predict_proba(test_data_tfidf)[:, 1]\n",
    "test_pred_custom = (test_probs >= best_threshold).astype(int)"
   ]
  },
  {
   "cell_type": "code",
   "execution_count": 27,
   "id": "ed8cd983",
   "metadata": {},
   "outputs": [
    {
     "data": {
      "text/html": [
       "<div>\n",
       "<style scoped>\n",
       "    .dataframe tbody tr th:only-of-type {\n",
       "        vertical-align: middle;\n",
       "    }\n",
       "\n",
       "    .dataframe tbody tr th {\n",
       "        vertical-align: top;\n",
       "    }\n",
       "\n",
       "    .dataframe thead th {\n",
       "        text-align: right;\n",
       "    }\n",
       "</style>\n",
       "<table border=\"1\" class=\"dataframe\">\n",
       "  <thead>\n",
       "    <tr style=\"text-align: right;\">\n",
       "      <th></th>\n",
       "      <th>ID</th>\n",
       "      <th>Rating</th>\n",
       "    </tr>\n",
       "  </thead>\n",
       "  <tbody>\n",
       "    <tr>\n",
       "      <th>0</th>\n",
       "      <td>0</td>\n",
       "      <td>1</td>\n",
       "    </tr>\n",
       "    <tr>\n",
       "      <th>1</th>\n",
       "      <td>1</td>\n",
       "      <td>1</td>\n",
       "    </tr>\n",
       "  </tbody>\n",
       "</table>\n",
       "</div>"
      ],
      "text/plain": [
       "   ID  Rating\n",
       "0   0       1\n",
       "1   1       1"
      ]
     },
     "metadata": {},
     "output_type": "display_data"
    },
    {
     "data": {
      "text/html": [
       "<div>\n",
       "<style scoped>\n",
       "    .dataframe tbody tr th:only-of-type {\n",
       "        vertical-align: middle;\n",
       "    }\n",
       "\n",
       "    .dataframe tbody tr th {\n",
       "        vertical-align: top;\n",
       "    }\n",
       "\n",
       "    .dataframe thead th {\n",
       "        text-align: right;\n",
       "    }\n",
       "</style>\n",
       "<table border=\"1\" class=\"dataframe\">\n",
       "  <thead>\n",
       "    <tr style=\"text-align: right;\">\n",
       "      <th></th>\n",
       "      <th>ID</th>\n",
       "      <th>Rating</th>\n",
       "    </tr>\n",
       "  </thead>\n",
       "  <tbody>\n",
       "    <tr>\n",
       "      <th>14930</th>\n",
       "      <td>16373</td>\n",
       "      <td>1</td>\n",
       "    </tr>\n",
       "    <tr>\n",
       "      <th>14931</th>\n",
       "      <td>16374</td>\n",
       "      <td>1</td>\n",
       "    </tr>\n",
       "  </tbody>\n",
       "</table>\n",
       "</div>"
      ],
      "text/plain": [
       "          ID  Rating\n",
       "14930  16373       1\n",
       "14931  16374       1"
      ]
     },
     "metadata": {},
     "output_type": "display_data"
    }
   ],
   "source": [
    "submission_df = pd.DataFrame({\n",
    "    'ID': test_data['ID'],\n",
    "    'Rating': test_pred_custom\n",
    "})"
   ]
  },
  {
   "cell_type": "code",
   "execution_count": null,
   "id": "b8946311-4e3b-45ff-b4a3-4b4fe9a107ee",
   "metadata": {},
   "outputs": [],
   "source": [
    "display(submission_df.head(2))\n",
    "display(dsubmission_dff.tail(2))"
   ]
  },
  {
   "cell_type": "code",
   "execution_count": 28,
   "id": "d25d18dd",
   "metadata": {},
   "outputs": [],
   "source": [
    "submission_df.to_csv('NLP_Hackathon_JN_.csv', index=False)"
   ]
  },
  {
   "cell_type": "code",
   "execution_count": null,
   "id": "f65e6bb3-cf66-4719-aaf5-314d533463f6",
   "metadata": {},
   "outputs": [],
   "source": []
  }
 ],
 "metadata": {
  "kernelspec": {
   "display_name": "Python 3 (ipykernel)",
   "language": "python",
   "name": "python3"
  },
  "language_info": {
   "codemirror_mode": {
    "name": "ipython",
    "version": 3
   },
   "file_extension": ".py",
   "mimetype": "text/x-python",
   "name": "python",
   "nbconvert_exporter": "python",
   "pygments_lexer": "ipython3",
   "version": "3.11.7"
  }
 },
 "nbformat": 4,
 "nbformat_minor": 5
}
