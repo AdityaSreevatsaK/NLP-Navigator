{
 "cells": [
  {
   "cell_type": "code",
   "execution_count": 1,
   "id": "49f727f9",
   "metadata": {},
   "outputs": [],
   "source": [
    "import warnings\n",
    "\n",
    "import numpy as np\n",
    "import pandas as pd\n",
    "import matplotlib.pyplot as plt\n",
    "import tensorflow as tf\n",
    "\n",
    "from tensorflow.keras.preprocessing.text import Tokenizer\n",
    "\n",
    "warnings.filterwarnings('ignore')"
   ]
  },
  {
   "cell_type": "code",
   "execution_count": 2,
   "id": "624f6b9c",
   "metadata": {},
   "outputs": [],
   "source": [
    "book_text = open('../b. Datasets/Nietzsche.txt', encoding='utf8').read()"
   ]
  },
  {
   "cell_type": "code",
   "execution_count": 3,
   "id": "df92310e",
   "metadata": {},
   "outputs": [
    {
     "name": "stdout",
     "output_type": "stream",
     "text": [
      "Length of the book is 600893\n"
     ]
    }
   ],
   "source": [
    "print(\"Length of the book is\", len(book_text))"
   ]
  },
  {
   "cell_type": "code",
   "execution_count": 4,
   "id": "16dec22b",
   "metadata": {},
   "outputs": [
    {
     "name": "stdout",
     "output_type": "stream",
     "text": [
      "nd up, works away industriously to that end, WITHOUT the rest of\n",
      "the scholarly impulses taking any material part therein. The actual\n",
      "\"interests\" of the scholar, therefore, are generally in quite another\n",
      "direction--in the family, perhaps, or in money-making, or in politics;\n",
      "it is, in fact, almost indifferent at what point of research his little\n",
      "machine is placed, and whether the hopeful young worker becomes a\n",
      "good philologist, a mushroom specialist, or a chemist; he is not\n",
      "CHARACTERISED by becoming this or that. In the philosopher, on the\n",
      "contrary, there is absolutely nothing impersonal; and above all,\n",
      "his morality furnishes a decided and decisive testimony as to WHO HE\n",
      "IS,--that is to say, in what order the deepest impulses of his nature\n",
      "stand to each other.\n",
      "\n",
      "7. How malicious philosophers can be! I know of nothing more stinging\n",
      "than the joke Epicurus took the liberty of making on Plato and the\n",
      "Platonists; he called them Dionysiokolakes. In its original sense,\n",
      "and on the face of it, the\n"
     ]
    }
   ],
   "source": [
    "print(book_text[14000:15000])"
   ]
  },
  {
   "cell_type": "code",
   "execution_count": 5,
   "id": "20fdbcaa",
   "metadata": {},
   "outputs": [
    {
     "name": "stdout",
     "output_type": "stream",
     "text": [
      "Number of unique characters: 84\n"
     ]
    }
   ],
   "source": [
    "# Tokenize the data\n",
    "#Tokenize at character level\n",
    "tokeniser = Tokenizer(char_level=True, lower=False)\n",
    "\n",
    "tokeniser.fit_on_texts(book_text)\n",
    "\n",
    "vocab_size = len(tokeniser.word_index)\n",
    "print(\"Number of unique characters:\", vocab_size)"
   ]
  },
  {
   "cell_type": "code",
   "execution_count": 6,
   "id": "a4addd7d",
   "metadata": {},
   "outputs": [
    {
     "name": "stdout",
     "output_type": "stream",
     "text": [
      "{' ': 1, 'e': 2, 't': 3, 'i': 4, 'o': 5, 'a': 6, 'n': 7, 's': 8, 'r': 9, 'h': 10, 'l': 11, 'd': 12, 'c': 13, 'u': 14, 'f': 15, 'm': 16, '\\n': 17, 'p': 18, 'g': 19, 'y': 20, ',': 21, 'w': 22, 'b': 23, 'v': 24, '-': 25, '.': 26, 'k': 27, '\"': 28, 'T': 29, 'I': 30, 'E': 31, 'A': 32, 'S': 33, 'x': 34, 'O': 35, 'N': 36, 'R': 37, ':': 38, ';': 39, 'H': 40, 'q': 41, 'j': 42, 'C': 43, 'G': 44, 'L': 45, 'W': 46, 'P': 47, 'M': 48, '!': 49, '?': 50, 'F': 51, 'D': 52, 'U': 53, '(': 54, ')': 55, 'B': 56, '1': 57, '=': 58, \"'\": 59, 'z': 60, '2': 61, 'Y': 62, 'V': 63, '_': 64, '3': 65, '4': 66, '5': 67, '8': 68, '6': 69, '7': 70, '[': 71, ']': 72, '9': 73, '0': 74, 'K': 75, 'J': 76, 'Q': 77, 'X': 78, 'Z': 79, 'ä': 80, 'é': 81, 'æ': 82, 'ë': 83, 'Æ': 84}\n"
     ]
    }
   ],
   "source": [
    "print(tokeniser.word_index)"
   ]
  },
  {
   "cell_type": "code",
   "execution_count": 7,
   "id": "119c5bc8",
   "metadata": {},
   "outputs": [],
   "source": [
    "book_num = tokeniser.texts_to_sequences(book_text)"
   ]
  },
  {
   "cell_type": "code",
   "execution_count": 8,
   "id": "086a0594",
   "metadata": {},
   "outputs": [
    {
     "name": "stdout",
     "output_type": "stream",
     "text": [
      " purely IMAGINED world of the absolute and immutab\n"
     ]
    }
   ],
   "source": [
    "print(book_text[10000:10050])"
   ]
  },
  {
   "cell_type": "code",
   "execution_count": 9,
   "id": "b497ee67",
   "metadata": {},
   "outputs": [
    {
     "name": "stdout",
     "output_type": "stream",
     "text": [
      "[[1], [18], [14], [9], [2], [11], [20], [1], [30], [48], [32], [44], [30], [36], [31], [52], [1], [22], [5], [9], [11], [12], [1], [5], [15], [1], [3], [10], [2], [1], [6], [23], [8], [5], [11], [14], [3], [2], [1], [6], [7], [12], [1], [4], [16], [16], [14], [3], [6], [23]]\n"
     ]
    }
   ],
   "source": [
    "print(book_num[10000:10050])"
   ]
  },
  {
   "cell_type": "code",
   "execution_count": 10,
   "id": "67bda16d",
   "metadata": {},
   "outputs": [],
   "source": [
    "#Build a dictionary which can convert numbers into chars\n",
    "int_to_char = dict((i,c) for c, i in tokeniser.word_index.items())"
   ]
  },
  {
   "cell_type": "code",
   "execution_count": 11,
   "id": "41f2636f",
   "metadata": {},
   "outputs": [
    {
     "name": "stdout",
     "output_type": "stream",
     "text": [
      "{1: ' ', 2: 'e', 3: 't', 4: 'i', 5: 'o', 6: 'a', 7: 'n', 8: 's', 9: 'r', 10: 'h', 11: 'l', 12: 'd', 13: 'c', 14: 'u', 15: 'f', 16: 'm', 17: '\\n', 18: 'p', 19: 'g', 20: 'y', 21: ',', 22: 'w', 23: 'b', 24: 'v', 25: '-', 26: '.', 27: 'k', 28: '\"', 29: 'T', 30: 'I', 31: 'E', 32: 'A', 33: 'S', 34: 'x', 35: 'O', 36: 'N', 37: 'R', 38: ':', 39: ';', 40: 'H', 41: 'q', 42: 'j', 43: 'C', 44: 'G', 45: 'L', 46: 'W', 47: 'P', 48: 'M', 49: '!', 50: '?', 51: 'F', 52: 'D', 53: 'U', 54: '(', 55: ')', 56: 'B', 57: '1', 58: '=', 59: \"'\", 60: 'z', 61: '2', 62: 'Y', 63: 'V', 64: '_', 65: '3', 66: '4', 67: '5', 68: '8', 69: '6', 70: '7', 71: '[', 72: ']', 73: '9', 74: '0', 75: 'K', 76: 'J', 77: 'Q', 78: 'X', 79: 'Z', 80: 'ä', 81: 'é', 82: 'æ', 83: 'ë', 84: 'Æ'}\n"
     ]
    }
   ],
   "source": [
    "print(int_to_char)"
   ]
  },
  {
   "cell_type": "code",
   "execution_count": 12,
   "id": "fcef7bb3",
   "metadata": {},
   "outputs": [
    {
     "data": {
      "text/plain": [
       "'f'"
      ]
     },
     "execution_count": 12,
     "metadata": {},
     "output_type": "execute_result"
    }
   ],
   "source": [
    "int_to_char[15]"
   ]
  },
  {
   "cell_type": "code",
   "execution_count": 13,
   "id": "a5c66161",
   "metadata": {},
   "outputs": [],
   "source": [
    "sequence_length = 100\n",
    "\n",
    "input_data = []\n",
    "output_data = []\n",
    "\n",
    "for i in range(0, len(book_num) - sequence_length):\n",
    "    input_sequence = book_num[i : i + sequence_length]\n",
    "    output_sequence = book_num[i + sequence_length]\n",
    "    \n",
    "    input_data.append(input_sequence)\n",
    "    output_data.append(output_sequence)"
   ]
  },
  {
   "cell_type": "code",
   "execution_count": 14,
   "id": "2fa64205",
   "metadata": {},
   "outputs": [
    {
     "name": "stdout",
     "output_type": "stream",
     "text": [
      "Total number of input arrays 600793\n",
      "Total number of output arrays 600793\n"
     ]
    }
   ],
   "source": [
    "print('Total number of input arrays', len(input_data))\n",
    "print('Total number of output arrays', len(output_data))"
   ]
  },
  {
   "cell_type": "code",
   "execution_count": 15,
   "id": "23d7a8b2",
   "metadata": {},
   "outputs": [
    {
     "name": "stdout",
     "output_type": "stream",
     "text": [
      "Input Data length:  100\n",
      "Output Data length:  1\n"
     ]
    }
   ],
   "source": [
    "print(\"Input Data length: \",len(input_data[10]))\n",
    "print(\"Output Data length: \",len(output_data[10]))"
   ]
  },
  {
   "cell_type": "code",
   "execution_count": 16,
   "id": "5eb97f9f",
   "metadata": {},
   "outputs": [
    {
     "name": "stdout",
     "output_type": "stream",
     "text": [
      "[[47], [37], [31], [51], [32], [43], [31], [17], [17], [17], [33], [53], [47], [47], [35], [33], [30], [36], [44], [1], [3], [10], [6], [3], [1], [29], [9], [14], [3], [10], [1], [4], [8], [1], [6], [1], [22], [5], [16], [6], [7], [25], [25], [22], [10], [6], [3], [1], [3], [10], [2], [7], [50], [1], [30], [8], [1], [3], [10], [2], [9], [2], [1], [7], [5], [3], [1], [19], [9], [5], [14], [7], [12], [17], [15], [5], [9], [1], [8], [14], [8], [18], [2], [13], [3], [4], [7], [19], [1], [3], [10], [6], [3], [1], [6], [11], [11], [1], [18], [10]]\n"
     ]
    }
   ],
   "source": [
    "print(input_data[0])"
   ]
  },
  {
   "cell_type": "code",
   "execution_count": 17,
   "id": "336695d9",
   "metadata": {},
   "outputs": [
    {
     "data": {
      "text/plain": [
       "array([[[0., 0., 0., ..., 0., 0., 0.],\n",
       "        [0., 0., 0., ..., 0., 0., 0.],\n",
       "        [0., 0., 0., ..., 0., 0., 0.],\n",
       "        ...,\n",
       "        [0., 1., 0., ..., 0., 0., 0.],\n",
       "        [0., 0., 0., ..., 0., 0., 0.],\n",
       "        [0., 0., 0., ..., 0., 0., 0.]],\n",
       "\n",
       "       [[0., 0., 0., ..., 0., 0., 0.],\n",
       "        [0., 0., 0., ..., 0., 0., 0.],\n",
       "        [0., 0., 0., ..., 0., 0., 0.],\n",
       "        ...,\n",
       "        [0., 0., 0., ..., 0., 0., 0.],\n",
       "        [0., 0., 0., ..., 0., 0., 0.],\n",
       "        [0., 0., 0., ..., 0., 0., 0.]],\n",
       "\n",
       "       [[0., 0., 0., ..., 0., 0., 0.],\n",
       "        [0., 0., 0., ..., 0., 0., 0.],\n",
       "        [0., 0., 0., ..., 0., 0., 0.],\n",
       "        ...,\n",
       "        [0., 0., 0., ..., 0., 0., 0.],\n",
       "        [0., 0., 0., ..., 0., 0., 0.],\n",
       "        [0., 0., 0., ..., 0., 0., 0.]],\n",
       "\n",
       "       ...,\n",
       "\n",
       "       [[0., 0., 0., ..., 0., 0., 0.],\n",
       "        [0., 0., 0., ..., 0., 0., 0.],\n",
       "        [0., 0., 0., ..., 0., 0., 0.],\n",
       "        ...,\n",
       "        [0., 0., 0., ..., 0., 0., 0.],\n",
       "        [0., 0., 0., ..., 0., 0., 0.],\n",
       "        [0., 0., 1., ..., 0., 0., 0.]],\n",
       "\n",
       "       [[0., 0., 0., ..., 0., 0., 0.],\n",
       "        [0., 0., 0., ..., 0., 0., 0.],\n",
       "        [0., 0., 0., ..., 0., 0., 0.],\n",
       "        ...,\n",
       "        [0., 0., 0., ..., 0., 0., 0.],\n",
       "        [0., 0., 1., ..., 0., 0., 0.],\n",
       "        [0., 0., 0., ..., 0., 0., 0.]],\n",
       "\n",
       "       [[0., 0., 0., ..., 0., 0., 0.],\n",
       "        [0., 0., 0., ..., 0., 0., 0.],\n",
       "        [0., 0., 0., ..., 0., 0., 0.],\n",
       "        ...,\n",
       "        [0., 0., 1., ..., 0., 0., 0.],\n",
       "        [0., 0., 0., ..., 0., 0., 0.],\n",
       "        [0., 0., 0., ..., 0., 0., 0.]]])"
      ]
     },
     "execution_count": 17,
     "metadata": {},
     "output_type": "execute_result"
    }
   ],
   "source": [
    "#Input data one hot encoding\n",
    "input_data_one_hot = tf.keras.utils.to_categorical(input_data, num_classes = vocab_size + 1)\n",
    "input_data_one_hot"
   ]
  },
  {
   "cell_type": "code",
   "execution_count": 18,
   "id": "9ebc8f2f-8baa-4f3d-ac24-7eb4ea5ebe3d",
   "metadata": {},
   "outputs": [
    {
     "data": {
      "text/plain": [
       "array([[0., 0., 0., ..., 0., 0., 0.],\n",
       "       [0., 0., 0., ..., 0., 0., 0.],\n",
       "       [0., 0., 0., ..., 0., 0., 0.],\n",
       "       ...,\n",
       "       [0., 0., 0., ..., 0., 0., 0.],\n",
       "       [0., 0., 0., ..., 0., 0., 0.],\n",
       "       [0., 0., 0., ..., 0., 0., 0.]])"
      ]
     },
     "execution_count": 18,
     "metadata": {},
     "output_type": "execute_result"
    }
   ],
   "source": [
    "#Output data one hot encoding\n",
    "output_data = tf.keras.utils.to_categorical(output_data, num_classes = vocab_size + 1)\n",
    "output_data"
   ]
  }
 ],
 "metadata": {
  "kernelspec": {
   "display_name": "Python 3 (ipykernel)",
   "language": "python",
   "name": "python3"
  },
  "language_info": {
   "codemirror_mode": {
    "name": "ipython",
    "version": 3
   },
   "file_extension": ".py",
   "mimetype": "text/x-python",
   "name": "python",
   "nbconvert_exporter": "python",
   "pygments_lexer": "ipython3",
   "version": "3.11.7"
  }
 },
 "nbformat": 4,
 "nbformat_minor": 5
}
